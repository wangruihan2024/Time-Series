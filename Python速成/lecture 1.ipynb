{
 "cells": [
  {
   "cell_type": "markdown",
   "metadata": {
    "collapsed": false
   },
   "source": []
  },
  {
   "cell_type": "markdown",
   "metadata": {
    "collapsed": false
   },
   "source": [
    "#### 安心学：以Python为主,C++ or 数据结构 可以答疑问或者课后再问。"
   ]
  },
  {
   "cell_type": "markdown",
   "metadata": {
    "collapsed": false
   },
   "source": [
    "#### 本学期计划：\n",
    "1. 跟着上课学习的进度复习和预习python基础知识，最后会组织总复习。\n",
    "2. 拓展python库：numpy,pandas (另一位辅导员会教seaborn和matplotib)\n",
    "3. 剩下时间答疑。\n",
    "4. 代码debug尽量在我和另一位辅导员上课的当天发群里或者私发给我们，尽力帮助。\n",
    "5. questions?"
   ]
  },
  {
   "cell_type": "markdown",
   "metadata": {
    "collapsed": false
   },
   "source": [
    "#### Python 学习方法\n",
    "1. 核心是practice\n",
    "2. 基础语法和concepts掌握扎实\n",
    "  btw，平时学习不要太纠结考试那种莫名其妙的选择题概念理解，对理解编程没有太多帮助。\n",
    "3. 善用网络资源，包括但不限于使用Bing new chat 这里推荐：[Learn Python 2 | Codecademy](https://www.codecademy.com/learn/learn-python) 和 [Python3 教程 | 菜鸟教程 (runoob.com)](https://www.runoob.com/python3/python3-tutorial.html)\n",
    "4. 请务必在初学独立完成代码"
   ]
  },
  {
   "cell_type": "markdown",
   "metadata": {
    "collapsed": false
   },
   "source": [
    "## Jupyter Notebook\n",
    "这里强烈推荐一下Jupyter Notebook的一个插件：**nbextensions**\n",
    "安装：pip install jupyter_contrib_nbextensions\n",
    "[Package Manual](https://jupyter-contrib-nbextensions.readthedocs.io/en/latest/install.html)\n",
    "非常实用的功能：\n",
    "* Table of Contents\n",
    "* CodeFolding\n",
    "* Highlighting\n",
    "* Variable Inspector\n",
    "\n",
    "安装库可以使用清华源 -i https://pypi.tuna.tsinghua.edu.cn/simple： 语法： pip install ... -i https://pypi.tuna.tsinghua.edu.cn/simple\n"
   ]
  },
  {
   "cell_type": "markdown",
   "metadata": {
    "collapsed": false
   },
   "source": [
    "#### review： 分支结构，循环结构"
   ]
  },
  {
   "cell_type": "code",
   "execution_count": 10,
   "metadata": {
    "collapsed": false
   },
   "outputs": [
    {
     "name": "stdout",
     "output_type": "stream",
     "text": [
      "周一周二周三之外的一天\n"
     ]
    }
   ],
   "source": [
    "today = 4\n",
    "if today == 1:\n",
    "    print(\"周一\")\n",
    "elif today == 2:\n",
    "    print(\"周二\")\n",
    "elif today == 3:\n",
    "    print(\"周三\")\n",
    "else:\n",
    "    print(\"周一周二周三之外的一天\")"
   ]
  },
  {
   "cell_type": "markdown",
   "metadata": {
    "collapsed": false
   },
   "source": []
  },
  {
   "cell_type": "code",
   "execution_count": 11,
   "metadata": {
    "collapsed": false
   },
   "outputs": [
    {
     "name": "stdout",
     "output_type": "stream",
     "text": [
      "1\n",
      "2\n",
      "3\n",
      "4\n",
      "5\n",
      "6\n",
      "7\n",
      "8\n",
      "9\n"
     ]
    }
   ],
   "source": [
    "for i in range(1,10):\n",
    "    print(i)"
   ]
  },
  {
   "cell_type": "code",
   "execution_count": 12,
   "metadata": {
    "collapsed": false
   },
   "outputs": [
    {
     "name": "stdout",
     "output_type": "stream",
     "text": [
      "45\n"
     ]
    }
   ],
   "source": [
    "sum = 0\n",
    "i = 0\n",
    "while(i < 10):\n",
    "    sum += i\n",
    "    i += 1\n",
    "print(sum)"
   ]
  },
  {
   "cell_type": "code",
   "execution_count": 13,
   "metadata": {
    "collapsed": false
   },
   "outputs": [
    {
     "name": "stdout",
     "output_type": "stream",
     "text": [
      "29\n",
      "28\n",
      "27\n",
      "26\n",
      "25\n",
      "24\n",
      "23\n",
      "22\n",
      "21\n",
      "20\n"
     ]
    }
   ],
   "source": [
    "count = 0\n",
    "guess_num = 30\n",
    "while guess_num != 20 and count <= 10:\n",
    "    guess_num -= 1\n",
    "    count += 1\n",
    "    print(guess_num)"
   ]
  },
  {
   "cell_type": "code",
   "execution_count": 14,
   "metadata": {
    "collapsed": false
   },
   "outputs": [
    {
     "name": "stdout",
     "output_type": "stream",
     "text": [
      "11\n",
      "12\n",
      "13\n",
      "14\n",
      "15\n",
      "16\n",
      "17\n",
      "18\n",
      "19\n",
      "20\n"
     ]
    }
   ],
   "source": [
    "count = 0\n",
    "guess_num = 10\n",
    "while guess_num != 20:\n",
    "    guess_num += 1\n",
    "    count += 1\n",
    "    if count > 10:\n",
    "        break\n",
    "    print(guess_num)"
   ]
  },
  {
   "cell_type": "code",
   "execution_count": null,
   "metadata": {
    "collapsed": false
   },
   "outputs": [
    {
     "name": "stdout",
     "output_type": "stream",
     "text": [
      "Tencent\n",
      "['Apple', 'Facebook', 'Alibaba']\n",
      "['Alibaba', 'Bilibili']\n",
      "['Bilibili', 'Tesla', 'Tencent']\n"
     ]
    }
   ],
   "source": [
    "cn_list = ['Apple', 'Facebook', 'Alibaba', 'Bilibili', 'Tesla', 'Tencent']\n",
    "print(cn_list[-1])\n",
    "print(cn_list[:3])\n",
    "print(cn_list[2:4]) # 2<=index<4\n",
    "print(cn_list[-3:])"
   ]
  },
  {
   "cell_type": "markdown",
   "metadata": {
    "collapsed": false
   },
   "source": [
    "#### break:弹出\n",
    "#### continue:跳过一次循环继续"
   ]
  },
  {
   "cell_type": "markdown",
   "metadata": {
    "collapsed": false
   },
   "source": [
    "## Basics of Python\n",
    "### Lists,Dictionaries,Tuple,Set"
   ]
  },
  {
   "cell_type": "code",
   "execution_count": null,
   "metadata": {},
   "outputs": [],
   "source": []
  },
  {
   "cell_type": "code",
   "execution_count": 16,
   "metadata": {
    "collapsed": false
   },
   "outputs": [
    {
     "data": {
      "text/plain": [
       "['Apple', 'Facebook', 'Alibaba', 'Bilibili', 'Tesla', 'Tencent', 'Amazon']"
      ]
     },
     "execution_count": 16,
     "metadata": {},
     "output_type": "execute_result"
    }
   ],
   "source": [
    "cn_list.append('Amazon')\n",
    "cn_list"
   ]
  },
  {
   "cell_type": "code",
   "execution_count": 17,
   "metadata": {
    "collapsed": false
   },
   "outputs": [
    {
     "data": {
      "text/plain": [
       "['Apple',\n",
       " 'Facebook',\n",
       " 'Alibaba',\n",
       " 'Bilibili',\n",
       " 'Tesla',\n",
       " 'Tencent',\n",
       " 'Amazon',\n",
       " 'Luckin',\n",
       " 'Starbucks']"
      ]
     },
     "execution_count": 17,
     "metadata": {},
     "output_type": "execute_result"
    }
   ],
   "source": [
    "cn_list = cn_list + ['Luckin', 'Starbucks']\n",
    "cn_list"
   ]
  },
  {
   "cell_type": "code",
   "execution_count": 18,
   "metadata": {
    "collapsed": false
   },
   "outputs": [
    {
     "name": "stdout",
     "output_type": "stream",
     "text": [
      "0\n",
      "Apple\n",
      "1\n",
      "Facebook\n",
      "2\n",
      "Alibaba\n",
      "3\n",
      "Bilibili\n",
      "4\n",
      "Tesla\n",
      "5\n",
      "Tencent\n",
      "6\n",
      "Amazon\n",
      "7\n",
      "Luckin\n",
      "8\n",
      "Starbucks\n"
     ]
    }
   ],
   "source": [
    "for i in range(9):\n",
    "    print(i)\n",
    "    print(cn_list[i])"
   ]
  },
  {
   "cell_type": "code",
   "execution_count": 21,
   "metadata": {
    "collapsed": false
   },
   "outputs": [
    {
     "name": "stdout",
     "output_type": "stream",
     "text": [
      "0\n",
      "1\n",
      "2\n",
      "3\n",
      "4\n",
      "5\n",
      "6\n",
      "7\n",
      "8\n"
     ]
    }
   ],
   "source": [
    "for i in range(len(cn_list)):\n",
    "    print(i)\n",
    "    if cn_list[i] in ['Luckin', 'Starbucks']:\n",
    "        cn_list.remove(cn_list[i])"
   ]
  },
  {
   "cell_type": "code",
   "execution_count": 59,
   "metadata": {
    "collapsed": false
   },
   "outputs": [
    {
     "name": "stdout",
     "output_type": "stream",
     "text": [
      "['Apple', 'Facebook', 'Alibaba', 'Bilibili', 'KFC', 'Tesla', 'Tencent']\n"
     ]
    }
   ],
   "source": [
    "cn_list = ['Apple', 'Facebook', 'Alibaba', 'Bilibili', 'Tesla', 'Tencent']\n",
    "cn_list.insert(4, 'KFC')\n",
    "print(cn_list)"
   ]
  },
  {
   "cell_type": "markdown",
   "metadata": {
    "collapsed": false
   },
   "source": [
    "总结一下list:\n",
    "1.抽屉,每一格都是一个存储单元，每一格都可以单独获取。\n",
    "2.index索引可以正着也可以反着\n",
    "3.append or +[]\n",
    "4.remove\n",
    "5.insert"
   ]
  },
  {
   "cell_type": "markdown",
   "metadata": {
    "collapsed": false
   },
   "source": [
    "#### 给数据贴上标签 Dict\n",
    "优势：Dictionary 无先后顺序、位置概念，索引速度并不会因为数据量变大而变慢"
   ]
  },
  {
   "cell_type": "code",
   "execution_count": 23,
   "metadata": {
    "collapsed": false
   },
   "outputs": [
    {
     "name": "stdout",
     "output_type": "stream",
     "text": [
      "{'ID': 111, 'passport': 'my passport', 'books': [1, 2, 3]}\n",
      "[1, 2, 3]\n"
     ]
    }
   ],
   "source": [
    "files = {\"ID\": 111, \"passport\": \"my passport\", \"books\": [1,2,3]}\n",
    "print(files)\n",
    "print(files[\"books\"])"
   ]
  },
  {
   "cell_type": "code",
   "execution_count": 24,
   "metadata": {
    "collapsed": false
   },
   "outputs": [
    {
     "name": "stdout",
     "output_type": "stream",
     "text": [
      "{'ID': 222, 'passport': 'my passport', 'books': [1, 2, 3]}\n",
      "{'ID': [2, 3, 4], 'passport': 'my passport', 'books': [1, 2, 3]}\n"
     ]
    }
   ],
   "source": [
    "files[\"ID\"] = 222\n",
    "print(files)\n",
    "files[\"ID\"] = [2,3,4]\n",
    "print(files)"
   ]
  },
  {
   "cell_type": "markdown",
   "metadata": {},
   "source": []
  },
  {
   "cell_type": "code",
   "execution_count": 25,
   "metadata": {
    "collapsed": false
   },
   "outputs": [
    {
     "name": "stdout",
     "output_type": "stream",
     "text": [
      "files[\"ID\"]: 111\n",
      "update: {'ID': 111, 'passport': 'my passport', 'books': [1, 2, 3], 'files': ['1', '2']}\n",
      "popped: 111\n",
      "remain: {'passport': 'my passport', 'books': [1, 2, 3], 'files': ['1', '2']}\n"
     ]
    }
   ],
   "source": [
    "files = {\"ID\": 111, \"passport\": \"my passport\", \"books\": [1,2,3]}\n",
    "\n",
    "# 按key拿取，并在拿取失败的时候给一个设定好的默认值\n",
    "print('files[\"ID\"]:', files[\"ID\"])\n",
    "\n",
    "# 将另一个字典补充到当前字典\n",
    "files.update({\"files\": [\"1\", \"2\"]})\n",
    "print('update:', files)\n",
    "\n",
    "# pop 调一个item，和列表的 pop 类似\n",
    "popped = files.pop(\"ID\")\n",
    "print('popped:', popped)\n",
    "print(\"remain:\", files)"
   ]
  },
  {
   "cell_type": "code",
   "execution_count": null,
   "metadata": {},
   "outputs": [],
   "source": []
  },
  {
   "cell_type": "code",
   "execution_count": 26,
   "metadata": {
    "collapsed": false
   },
   "outputs": [
    {
     "name": "stdout",
     "output_type": "stream",
     "text": [
      "key: ID\n",
      "key: passport\n",
      "key: books\n",
      "value: 111\n",
      "value: my passport\n",
      "value: [1, 2, 3]\n",
      "key: ID , value: 111\n",
      "key: passport , value: my passport\n",
      "key: books , value: [1, 2, 3]\n"
     ]
    }
   ],
   "source": [
    "files = {\"ID\": 111, \"passport\": \"my passport\", \"books\": [1,2,3]}\n",
    "for key in files.keys():\n",
    "    print(\"key:\", key)\n",
    "\n",
    "for value in files.values():\n",
    "    print(\"value:\", value)\n",
    "\n",
    "for key, value in files.items():\n",
    "    print(\"key:\", key, \", value:\", value)\n"
   ]
  },
  {
   "cell_type": "markdown",
   "metadata": {
    "collapsed": false
   },
   "source": [
    "#### tuple\n",
    "特性：里面的元素不可变"
   ]
  },
  {
   "cell_type": "code",
   "execution_count": 27,
   "metadata": {
    "collapsed": false
   },
   "outputs": [
    {
     "name": "stdout",
     "output_type": "stream",
     "text": [
      "file2\n"
     ]
    }
   ],
   "source": [
    "files = (\"file1\", \"file2\", \"file3\")\n",
    "print(files[1])"
   ]
  },
  {
   "cell_type": "code",
   "execution_count": null,
   "metadata": {},
   "outputs": [],
   "source": []
  },
  {
   "cell_type": "code",
   "execution_count": 28,
   "metadata": {
    "collapsed": false
   },
   "outputs": [
    {
     "ename": "TypeError",
     "evalue": "'tuple' object does not support item assignment",
     "output_type": "error",
     "traceback": [
      "\u001b[1;31m---------------------------------------------------------------------------\u001b[0m",
      "\u001b[1;31mTypeError\u001b[0m                                 Traceback (most recent call last)",
      "Cell \u001b[1;32mIn [28], line 1\u001b[0m\n\u001b[1;32m----> 1\u001b[0m files[\u001b[38;5;241m1\u001b[39m] \u001b[38;5;241m=\u001b[39m \u001b[38;5;124m\"\u001b[39m\u001b[38;5;124mfile4\u001b[39m\u001b[38;5;124m\"\u001b[39m\n",
      "\u001b[1;31mTypeError\u001b[0m: 'tuple' object does not support item assignment"
     ]
    }
   ],
   "source": [
    "files[1] = \"file4\"   # 这里会报错"
   ]
  },
  {
   "cell_type": "markdown",
   "metadata": {
    "collapsed": false
   },
   "source": [
    "#### set:集合\n",
    "避免重复元素，无序性"
   ]
  },
  {
   "cell_type": "code",
   "execution_count": 29,
   "metadata": {
    "collapsed": false
   },
   "outputs": [
    {
     "name": "stdout",
     "output_type": "stream",
     "text": [
      "{'file1', 'file3', 'file2'}\n",
      "{'file1', 'file3', 'file2'}\n",
      "{'file4', 'file1', 'file3', 'file2'}\n",
      "{'file4', 'file1', 'file2'}\n"
     ]
    }
   ],
   "source": [
    "my_files = set([\"file1\", \"file2\", \"file3\"])\n",
    "print(my_files)\n",
    "my_files.add(\"file3\")\n",
    "print(my_files)\n",
    "my_files.add(\"file4\")\n",
    "print(my_files)\n",
    "my_files.remove(\"file3\")\n",
    "print(my_files)"
   ]
  },
  {
   "cell_type": "code",
   "execution_count": 30,
   "metadata": {
    "collapsed": false
   },
   "outputs": [
    {
     "name": "stdout",
     "output_type": "stream",
     "text": [
      "my_files {'file4', 'file1', 'file2'}\n",
      "your_files {'file1', 'file5', 'file3'}\n",
      "交集  {'file1'}\n",
      "并集  {'file1', 'file3', 'file4', 'file5', 'file2'}\n",
      "补集  {'file5', 'file3'}\n"
     ]
    }
   ],
   "source": [
    "print(\"my_files\", my_files)\n",
    "your_files = {\"file1\", \"file3\", \"file5\"}\n",
    "print(\"your_files\", your_files)\n",
    "print(\"交集 \", your_files.intersection(my_files))\n",
    "print(\"并集 \", your_files.union(my_files))\n",
    "print(\"补集 \", your_files.difference(my_files))"
   ]
  },
  {
   "cell_type": "markdown",
   "metadata": {
    "collapsed": false
   },
   "source": [
    "#### 总结：\n",
    "[]：list\n",
    "():tuple\n",
    "{}:dict 或 set"
   ]
  },
  {
   "cell_type": "code",
   "execution_count": 30,
   "metadata": {
    "collapsed": false
   },
   "outputs": [],
   "source": []
  },
  {
   "cell_type": "markdown",
   "metadata": {
    "collapsed": false
   },
   "source": [
    "#### numpy brief intro"
   ]
  },
  {
   "cell_type": "markdown",
   "metadata": {
    "collapsed": false
   },
   "source": [
    "是几乎所有Python其他库的核心，地位斐然。\n",
    "广泛用于矩阵计算，人工智能，批处理，数据统计……\n",
    "避免Python最让人诟病的速度慢的问题（见下）"
   ]
  },
  {
   "cell_type": "code",
   "execution_count": 31,
   "metadata": {
    "collapsed": false
   },
   "outputs": [
    {
     "name": "stdout",
     "output_type": "stream",
     "text": [
      "Using numpy: 0.011423587799072266 seconds\n"
     ]
    }
   ],
   "source": [
    "# 使用numpy进行矩阵乘法\n",
    "import numpy as np\n",
    "import time\n",
    "\n",
    "# 创建两个1000x1000的随机矩阵\n",
    "a = np.random.rand(1000, 1000)\n",
    "b = np.random.rand(1000, 1000)\n",
    "\n",
    "# 记录开始时间\n",
    "start = time.time()\n",
    "\n",
    "# 使用numpy.dot函数进行矩阵乘法\n",
    "c = np.dot(a, b)\n",
    "\n",
    "# 记录结束时间\n",
    "end = time.time()\n",
    "\n",
    "# 打印运行时间\n",
    "print(f\"Using numpy: {end - start} seconds\")"
   ]
  },
  {
   "cell_type": "code",
   "execution_count": 32,
   "metadata": {
    "collapsed": false
   },
   "outputs": [
    {
     "name": "stdout",
     "output_type": "stream",
     "text": [
      "Using Python list:136.06967878341675 seconds\n"
     ]
    }
   ],
   "source": [
    "# 使用Python列表进行矩阵乘法\n",
    "import random\n",
    "import time\n",
    "\n",
    "# 创建两个1000x1000的随机列表\n",
    "a = [[random.random() for _ in range(1000)] for _ in range(1000)]\n",
    "b = [[random.random() for _ in range(1000)] for _ in range(1000)]\n",
    "\n",
    "# 记录开始时间\n",
    "start = time.time()\n",
    "\n",
    "# 矩阵乘法\n",
    "c = [[0 for _ in range(1000)] for _ in range(1000)]\n",
    "for i in range(1000):\n",
    "    for j in range(1000):\n",
    "        for k in range(1000):\n",
    "            c[i][j] += a[i][k] * b[k][j]\n",
    "\n",
    "# 记录结束时间\n",
    "end = time.time()\n",
    "# 打印运行时间\n",
    "print(f\"Using Python list:{end - start} seconds\")"
   ]
  },
  {
   "cell_type": "markdown",
   "metadata": {
    "collapsed": false
   },
   "source": [
    "#### pip install numpy"
   ]
  },
  {
   "cell_type": "code",
   "execution_count": 33,
   "metadata": {
    "collapsed": false
   },
   "outputs": [],
   "source": [
    "import numpy as np\n"
   ]
  },
  {
   "cell_type": "code",
   "execution_count": 34,
   "metadata": {
    "collapsed": false
   },
   "outputs": [
    {
     "name": "stdout",
     "output_type": "stream",
     "text": [
      "1\n",
      "1\n"
     ]
    }
   ],
   "source": [
    "my_list = [1,2,3]\n",
    "print(my_list[0])\n",
    "my_array = np.array([1,2,3])\n",
    "print(my_array[0])"
   ]
  },
  {
   "cell_type": "code",
   "execution_count": 35,
   "metadata": {
    "collapsed": false
   },
   "outputs": [
    {
     "name": "stdout",
     "output_type": "stream",
     "text": [
      "[-1, 2, 3]\n",
      "[-1  2  3]\n"
     ]
    }
   ],
   "source": [
    "my_list[0] = -1\n",
    "my_array[0] = -1\n",
    "print(my_list)\n",
    "print(my_array)"
   ]
  },
  {
   "cell_type": "code",
   "execution_count": 36,
   "metadata": {
    "collapsed": false
   },
   "outputs": [
    {
     "name": "stdout",
     "output_type": "stream",
     "text": [
      "数据： [ 5 10 12  6] \n",
      "维度： 1\n"
     ]
    }
   ],
   "source": [
    "cars = np.array([5, 10, 12, 6])\n",
    "print(\"数据：\", cars, \"\\n维度：\", cars.ndim)"
   ]
  },
  {
   "cell_type": "code",
   "execution_count": 37,
   "metadata": {
    "collapsed": false
   },
   "outputs": [
    {
     "name": "stdout",
     "output_type": "stream",
     "text": [
      "数据：\n",
      " [[ 5.  10.  12.   6. ]\n",
      " [ 5.1  8.2 11.   6.3]\n",
      " [ 4.4  9.1 10.   6.6]] \n",
      "维度： 2\n"
     ]
    }
   ],
   "source": [
    "cars = np.array([\n",
    "    [5, 10, 12, 6],\n",
    "    [5.1, 8.2, 11, 6.3],\n",
    "    [4.4, 9.1, 10, 6.6]\n",
    "])\n",
    "\n",
    "print(\"数据：\\n\", cars, \"\\n维度：\", cars.ndim)"
   ]
  },
  {
   "cell_type": "code",
   "execution_count": 38,
   "metadata": {
    "collapsed": false
   },
   "outputs": [
    {
     "name": "stdout",
     "output_type": "stream",
     "text": [
      "总维度： 3\n",
      "场地 1 数据：\n",
      " [[ 5.  10.  12.   6. ]\n",
      " [ 5.1  8.2 11.   6.3]\n",
      " [ 4.4  9.1 10.   6.6]] \n",
      "场地 1 维度： 2\n",
      "场地 2 数据：\n",
      " [[ 6.  11.  13.   7. ]\n",
      " [ 6.1  9.2 12.   7.3]\n",
      " [ 5.4 10.1 11.   7.6]] \n",
      "场地 2 维度： 2\n"
     ]
    }
   ],
   "source": [
    "cars = np.array([\n",
    "    [\n",
    "        [5, 10, 12, 6],\n",
    "        [5.1, 8.2, 11, 6.3],\n",
    "        [4.4, 9.1, 10, 6.6]\n",
    "    ],\n",
    "    [\n",
    "        [6, 11, 13, 7],\n",
    "        [6.1, 9.2, 12, 7.3],\n",
    "        [5.4, 10.1, 11, 7.6]\n",
    "    ],\n",
    "])\n",
    "\n",
    "print(\"总维度：\", cars.ndim)\n",
    "print(\"场地 1 数据：\\n\", cars[0], \"\\n场地 1 维度：\", cars[0].ndim)\n",
    "print(\"场地 2 数据：\\n\", cars[1], \"\\n场地 2 维度：\", cars[1].ndim)"
   ]
  },
  {
   "cell_type": "code",
   "execution_count": 39,
   "metadata": {
    "collapsed": false
   },
   "outputs": [
    {
     "name": "stdout",
     "output_type": "stream",
     "text": [
      "[ 5.  10.  12.   6.   5.2  4.2]\n"
     ]
    }
   ],
   "source": [
    "cars1 = np.array([5, 10, 12, 6])\n",
    "cars2 = np.array([5.2, 4.2])\n",
    "cars = np.concatenate([cars1, cars2])  # 添加数据\n",
    "print(cars)"
   ]
  },
  {
   "cell_type": "code",
   "execution_count": 40,
   "metadata": {
    "collapsed": false
   },
   "outputs": [
    {
     "name": "stdout",
     "output_type": "stream",
     "text": [
      "test1加维度后  [[ 5 10 12  6]]\n",
      "test2加维度后  [[ 5.1  8.2 11.   6.3]]\n",
      "括展后\n",
      " [[ 5.  10.  12.   6. ]\n",
      " [ 5.1  8.2 11.   6.3]]\n"
     ]
    }
   ],
   "source": [
    "test1 = np.array([5, 10, 12, 6])\n",
    "test2 = np.array([5.1, 8.2, 11, 6.3])\n",
    "\n",
    "# 首先需要把它们都变成二维，下面这两种方法都可以加维度\n",
    "test1 = np.expand_dims(test1, 0)\n",
    "test2 = test2[np.newaxis, :]\n",
    "\n",
    "print(\"test1加维度后 \", test1)\n",
    "print(\"test2加维度后 \", test2)\n",
    "\n",
    "# 然后再在第一个维度上叠加\n",
    "all_tests = np.concatenate([test1, test2])\n",
    "print(\"括展后\\n\", all_tests)"
   ]
  },
  {
   "cell_type": "markdown",
   "metadata": {
    "collapsed": false
   },
   "source": [
    "合并数据"
   ]
  },
  {
   "cell_type": "code",
   "execution_count": 41,
   "metadata": {
    "collapsed": false
   },
   "outputs": [
    {
     "name": "stdout",
     "output_type": "stream",
     "text": [
      "第一维度叠加：\n",
      " [[ 5.  10.  12.   6. ]\n",
      " [ 5.1  8.2 11.   6.3]\n",
      " [ 5.  10.  12.   6. ]\n",
      " [ 5.1  8.2 11.   6.3]]\n",
      "第二维度叠加：\n",
      " [[ 5.  10.  12.   6.   5.  10.  12.   6. ]\n",
      " [ 5.1  8.2 11.   6.3  5.1  8.2 11.   6.3]]\n"
     ]
    }
   ],
   "source": [
    "print(\"第一维度叠加：\\n\", np.concatenate([all_tests, all_tests], axis=0))\n",
    "print(\"第二维度叠加：\\n\", np.concatenate([all_tests, all_tests], axis=1))"
   ]
  },
  {
   "cell_type": "code",
   "execution_count": 42,
   "metadata": {
    "collapsed": false
   },
   "outputs": [
    {
     "name": "stdout",
     "output_type": "stream",
     "text": [
      "竖直合并\n",
      " [[1 2]\n",
      " [3 4]\n",
      " [5 6]\n",
      " [7 8]]\n",
      "水平合并\n",
      " [[1 2 5 6]\n",
      " [3 4 7 8]]\n"
     ]
    }
   ],
   "source": [
    "a = np.array([\n",
    "    [1,2],\n",
    "    [3,4]\n",
    "])\n",
    "b = np.array([\n",
    "    [5,6],\n",
    "    [7,8]\n",
    "])\n",
    "print(\"竖直合并\\n\", np.vstack([a, b]))\n",
    "print(\"水平合并\\n\", np.hstack([a, b]))"
   ]
  },
  {
   "cell_type": "markdown",
   "metadata": {
    "collapsed": false
   },
   "source": [
    "观察"
   ]
  },
  {
   "cell_type": "code",
   "execution_count": 43,
   "metadata": {
    "collapsed": false
   },
   "outputs": [
    {
     "name": "stdout",
     "output_type": "stream",
     "text": [
      "总共多少测试数据： 12\n"
     ]
    }
   ],
   "source": [
    "cars = np.array([\n",
    "    [5, 10, 12, 6],\n",
    "    [5.1, 8.2, 11, 6.3],\n",
    "    [4.4, 9.1, 10, 6.6]\n",
    "])\n",
    "\n",
    "count = 0\n",
    "for i in range(len(cars)):\n",
    "    for j in range(len(cars[i])):\n",
    "        count += 1\n",
    "print(\"总共多少测试数据：\", count)"
   ]
  },
  {
   "cell_type": "markdown",
   "metadata": {
    "collapsed": false
   },
   "source": [
    "选取，切片"
   ]
  },
  {
   "cell_type": "code",
   "execution_count": 44,
   "metadata": {
    "collapsed": false
   },
   "outputs": [
    {
     "name": "stdout",
     "output_type": "stream",
     "text": [
      "a[0]: 1\n",
      "a[1]: 2\n",
      "a[[0,1]]:\n",
      " [1 2]\n",
      "a[[1,1,0]]:\n",
      " [2 2 1]\n"
     ]
    }
   ],
   "source": [
    "a = np.array([1, 2, 3])\n",
    "print(\"a[0]:\", a[0])\n",
    "print(\"a[1]:\", a[1])\n",
    "print(\"a[[0,1]]:\\n\", a[[0,1]])\n",
    "print(\"a[[1,1,0]]:\\n\", a[[1,1,0]])"
   ]
  },
  {
   "cell_type": "code",
   "execution_count": 45,
   "metadata": {
    "collapsed": false
   },
   "outputs": [
    {
     "name": "stdout",
     "output_type": "stream",
     "text": [
      "b[1]:\n",
      " [5 6 7 8]\n",
      "b[1,0]:\n",
      " 5\n",
      "b[[1,0],[2,3]]:\n",
      " [7 4]\n"
     ]
    }
   ],
   "source": [
    "b = np.array([\n",
    "    [1,2,3,4],\n",
    "    [5,6,7,8],\n",
    "    [9,10,11,12]\n",
    "])\n",
    "\n",
    "# 选第 2 行所有数\n",
    "print(\"b[1]:\\n\", b[1])\n",
    "\n",
    "# 选第 2 行，第 1 列的数\n",
    "print(\"b[1,0]:\\n\", b[1,0])\n",
    "\n",
    "# 这个看着有点纠结，如果对应到数据，\n",
    "# 第一个拿的是数据位是 [1,2]\n",
    "# 第二个拿的是 [0,3]\n",
    "print(\"b[[1,0],[2,3]]:\\n\",\n",
    "      b[[1,0],\n",
    "        [2,3]])"
   ]
  },
  {
   "cell_type": "code",
   "execution_count": 46,
   "metadata": {
    "collapsed": false
   },
   "outputs": [
    {
     "name": "stdout",
     "output_type": "stream",
     "text": [
      "a[0:2]：\n",
      " [1 2]\n",
      "a[1:]：\n",
      " [2 3]\n",
      "a[-2:]：\n",
      " [2 3]\n"
     ]
    }
   ],
   "source": [
    "a = np.array([1, 2, 3])\n",
    "print(\"a[0:2]：\\n\", a[0:2])\n",
    "print(\"a[1:]：\\n\", a[1:])\n",
    "print(\"a[-2:]：\\n\", a[-2:])\n",
    "# 同list"
   ]
  },
  {
   "cell_type": "code",
   "execution_count": 47,
   "metadata": {
    "collapsed": false
   },
   "outputs": [
    {
     "name": "stdout",
     "output_type": "stream",
     "text": [
      "b[:2]:\n",
      " [[1 2 3 4]\n",
      " [5 6 7 8]]\n",
      "b[:2, :3]:\n",
      " [[1 2 3]\n",
      " [5 6 7]]\n",
      "b[1:3, -2:]:\n",
      " [[ 7  8]\n",
      " [11 12]]\n"
     ]
    }
   ],
   "source": [
    "b = np.array([\n",
    "    [1,2,3,4],\n",
    "    [5,6,7,8],\n",
    "    [9,10,11,12]\n",
    "])\n",
    "\n",
    "print(\"b[:2]:\\n\", b[:2])\n",
    "print(\"b[:2, :3]:\\n\", b[:2, :3])\n",
    "print(\"b[1:3, -2:]:\\n\", b[1:3, -2:])"
   ]
  },
  {
   "cell_type": "markdown",
   "metadata": {
    "collapsed": false
   },
   "source": [
    "#### 条件筛选"
   ]
  },
  {
   "cell_type": "code",
   "execution_count": 48,
   "metadata": {
    "collapsed": false
   },
   "outputs": [
    {
     "name": "stdout",
     "output_type": "stream",
     "text": [
      "[ 8  9 10 11 12]\n"
     ]
    }
   ],
   "source": [
    "a = np.array([\n",
    "    [1,2,3,4],\n",
    "    [5,6,7,8],\n",
    "    [9,10,11,12]\n",
    "])\n",
    "\n",
    "print(a[a>7])"
   ]
  },
  {
   "cell_type": "code",
   "execution_count": 49,
   "metadata": {
    "collapsed": false
   },
   "outputs": [
    {
     "name": "stdout",
     "output_type": "stream",
     "text": [
      "[[ 1  2  3  4]\n",
      " [ 5  6  7 -1]\n",
      " [-1 -1 -1 -1]]\n"
     ]
    }
   ],
   "source": [
    "condition = a > 7\n",
    "print(np.where(condition, -1, a))"
   ]
  },
  {
   "cell_type": "markdown",
   "metadata": {
    "collapsed": false
   },
   "source": [
    "数据生成"
   ]
  },
  {
   "cell_type": "code",
   "execution_count": 50,
   "metadata": {
    "collapsed": false
   },
   "outputs": [
    {
     "name": "stdout",
     "output_type": "stream",
     "text": [
      "zeros:\n",
      " [[0. 0. 0.]\n",
      " [0. 0. 0.]]\n",
      "\n",
      "ones:\n",
      " [[1. 1.]\n",
      " [1. 1.]\n",
      " [1. 1.]]\n",
      "ones: (2, 3) int64\n",
      "ones_like: (2, 3) int64\n",
      "ones_like value:\n",
      " [[1 1 1]\n",
      " [1 1 1]]\n"
     ]
    }
   ],
   "source": [
    "import numpy as np\n",
    "zeros = np.zeros([2, 3])\n",
    "print(\"zeros:\\n\", zeros)\n",
    "\n",
    "ones = np.ones([3, 2])\n",
    "print(\"\\nones:\\n\", ones)\n",
    "\n",
    "data = np.array([\n",
    "    [1,2,3],\n",
    "    [4,5,6]\n",
    "], dtype=np.int64)\n",
    "\n",
    "ones = np.ones(data.shape, dtype=data.dtype)\n",
    "ones_like = np.ones_like(data)\n",
    "\n",
    "print(\"ones:\", ones.shape, ones.dtype)\n",
    "print(\"ones_like:\", ones_like.shape, ones_like.dtype)\n",
    "print(\"ones_like value:\\n\", ones_like)"
   ]
  },
  {
   "cell_type": "code",
   "execution_count": 51,
   "metadata": {
    "collapsed": false
   },
   "outputs": [
    {
     "name": "stdout",
     "output_type": "stream",
     "text": [
      "python range: [0, 1, 2, 3, 4]\n",
      "numpy arange: [0 1 2 3 4]\n"
     ]
    }
   ],
   "source": [
    "print(\"python range:\", list(range(5)))\n",
    "print(\"numpy arange:\", np.arange(5))\n"
   ]
  },
  {
   "cell_type": "code",
   "execution_count": 52,
   "metadata": {
    "collapsed": false
   },
   "outputs": [
    {
     "name": "stdout",
     "output_type": "stream",
     "text": [
      "[[0.15657823 0.84940922]\n",
      " [0.5251306  0.16184726]\n",
      " [0.39912314 0.76850178]]\n",
      "[[0.90838834 0.54804153]\n",
      " [0.89855918 0.03513744]\n",
      " [0.09212483 0.86121123]]\n",
      "[[ 0.661513    0.00762249]\n",
      " [ 0.25182048  0.27886458]\n",
      " [-0.49993403  0.7409702 ]]\n",
      "[-1  5 -3  4 -2  2  4 -3  0  4]\n"
     ]
    }
   ],
   "source": [
    "dim1, dim2 = 3, 2\n",
    "print(np.random.rand(dim1, dim2)) # 你还能继续添加 dim3 或更多\n",
    "print(np.random.random([dim1, dim2]))\n",
    "print(np.random.randn(dim1, dim2))\n",
    "print(np.random.randint(low=-3, high=6, size=10))"
   ]
  },
  {
   "cell_type": "code",
   "execution_count": 53,
   "metadata": {
    "collapsed": false
   },
   "outputs": [
    {
     "name": "stdout",
     "output_type": "stream",
     "text": [
      "选一个： 1\n",
      "选多个： [6 2 1]\n",
      "不重复地选多个(不放回)： [3 6 2]\n",
      "带权重地选择： [4 6 4 6 4 6 4 4 6 6]\n"
     ]
    }
   ],
   "source": [
    "data = np.array([2,1,3,4,6])\n",
    "print(\"选一个：\", np.random.choice(data))\n",
    "print(\"选多个：\", np.random.choice(data, size=3))\n",
    "print(\"不重复地选多个(不放回)：\", np.random.choice(data, size=3, replace=False))\n",
    "print(\"带权重地选择：\", np.random.choice(data, size=10, p=[0,0,0,0.2,0.8]))\n"
   ]
  },
  {
   "cell_type": "code",
   "execution_count": 54,
   "metadata": {
    "collapsed": false
   },
   "outputs": [
    {
     "name": "stdout",
     "output_type": "stream",
     "text": [
      "original数据： [2 1 3 4 6]\n",
      "shuffled: [1 4 6 2 3]\n"
     ]
    }
   ],
   "source": [
    "data_copy = np.copy(data)\n",
    "np.random.shuffle(data)\n",
    "print(\"original数据：\", data_copy)\n",
    "print(\"shuffled:\", data)"
   ]
  },
  {
   "cell_type": "code",
   "execution_count": 55,
   "metadata": {
    "collapsed": false
   },
   "outputs": [
    {
     "name": "stdout",
     "output_type": "stream",
     "text": [
      "正态分布： [0.56275474 0.76774772 0.82816497 1.26646854 1.070128   1.14507802\n",
      " 1.09563846 1.03356826 0.76268334 1.29069888]\n",
      "均匀分布： [-0.13663734  0.52455351  0.35183975 -0.30318251 -0.63168156  0.80352552\n",
      "  0.24844833 -0.8850982   0.71251335 -0.78781136]\n"
     ]
    }
   ],
   "source": [
    "# (均值，方差，size)\n",
    "print(\"正态分布：\", np.random.normal(1, 0.2, 10))\n",
    "\n",
    "# (最低，最高，size)\n",
    "print(\"均匀分布：\", np.random.uniform(-1, 1, 10))"
   ]
  },
  {
   "cell_type": "code",
   "execution_count": 56,
   "metadata": {
    "collapsed": false
   },
   "outputs": [
    {
     "name": "stdout",
     "output_type": "stream",
     "text": [
      "[7 5 6]\n",
      "[2 9 3]\n"
     ]
    }
   ],
   "source": [
    "# seed(1) 代表的就是 1 号随机序列\n",
    "np.random.seed(1)\n",
    "print(np.random.randint(2, 10, size=3))\n",
    "print(np.random.randint(2, 10, size=3))"
   ]
  },
  {
   "cell_type": "code",
   "execution_count": null,
   "metadata": {
    "collapsed": false
   },
   "outputs": [],
   "source": []
  }
 ],
 "metadata": {
  "kernelspec": {
   "display_name": "Python 3",
   "language": "python",
   "name": "python3"
  },
  "language_info": {
   "codemirror_mode": {
    "name": "ipython",
    "version": 2
   },
   "file_extension": ".py",
   "mimetype": "text/x-python",
   "name": "python",
   "nbconvert_exporter": "python",
   "pygments_lexer": "ipython2",
   "version": "2.7.6"
  }
 },
 "nbformat": 4,
 "nbformat_minor": 0
}
